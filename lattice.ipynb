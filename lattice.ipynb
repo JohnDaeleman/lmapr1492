{
 "cells": [
  {
   "cell_type": "code",
   "execution_count": 9,
   "id": "d81a697b",
   "metadata": {},
   "outputs": [],
   "source": [
    "from mp_api.client import MPRester\n",
    "from pymatgen.symmetry.analyzer import SpacegroupAnalyzer"
   ]
  },
  {
   "cell_type": "code",
   "execution_count": 10,
   "id": "4bd87ac6",
   "metadata": {},
   "outputs": [],
   "source": [
    "mp_key= \"V3MXH2I0Y7QlIPA7DnKaEb6MbSeygSrs\"\n",
    "mp_id = \"mp-22990\""
   ]
  },
  {
   "cell_type": "code",
   "execution_count": 11,
   "id": "18c91103",
   "metadata": {},
   "outputs": [
    {
     "data": {
      "application/vnd.jupyter.widget-view+json": {
       "model_id": "089c91bc3a7c40b89b97aee286502560",
       "version_major": 2,
       "version_minor": 0
      },
      "text/plain": [
       "Retrieving MaterialsDoc documents:   0%|          | 0/1 [00:00<?, ?it/s]"
      ]
     },
     "metadata": {},
     "output_type": "display_data"
    },
    {
     "name": "stdout",
     "output_type": "stream",
     "text": [
      "Full Formula (Cs1 I1 Cl2)\n",
      "Reduced Formula: CsICl2\n",
      "abc   :   5.541028   5.541027   5.541028\n",
      "angles:  70.139469  70.139482  70.139465\n",
      "pbc   :       True       True       True\n",
      "Sites (4)\n",
      "  #  SP            a         b          c    magmom\n",
      "---  ----  ---------  --------  ---------  --------\n",
      "  0  Cs    -0         0         -0                0\n",
      "  1  I      0.5       0.5        0.5              0\n",
      "  2  Cl     0.705555  0.705555   0.705555        -0\n",
      "  3  Cl     0.294445  0.294445   0.294445        -0\n"
     ]
    }
   ],
   "source": [
    "with MPRester(mp_key) as m:\n",
    "    structure = m.get_structure_by_material_id(mp_id)\n",
    "\n",
    "print(structure)"
   ]
  },
  {
   "cell_type": "code",
   "execution_count": 12,
   "id": "ef339e9f",
   "metadata": {},
   "outputs": [
    {
     "name": "stdout",
     "output_type": "stream",
     "text": [
      "[[5.2200946  0.01987948 1.8582796 ]\n",
      " [1.31744021 5.05115137 1.85827962]\n",
      " [0.02562691 0.01987947 5.54093277]]\n"
     ]
    }
   ],
   "source": [
    "print(structure.lattice.matrix)"
   ]
  },
  {
   "cell_type": "code",
   "execution_count": 13,
   "id": "6dfcb727",
   "metadata": {},
   "outputs": [
    {
     "name": "stdout",
     "output_type": "stream",
     "text": [
      "[[ 1.20643213 -0.31302177 -0.00445673]\n",
      " [-0.00315987  1.24637538 -0.00445707]\n",
      " [-0.40354511 -0.31302166  1.13694749]]\n"
     ]
    }
   ],
   "source": [
    "print(structure.lattice.reciprocal_lattice.matrix)"
   ]
  },
  {
   "cell_type": "code",
   "execution_count": 14,
   "id": "ca0e8ad9",
   "metadata": {},
   "outputs": [
    {
     "name": "stdout",
     "output_type": "stream",
     "text": [
      "Type de maille : rhombohedral\n",
      "Système cristallin : trigonal\n",
      "Groupe ponctuel : -3m\n"
     ]
    }
   ],
   "source": [
    "from pymatgen.symmetry.analyzer import SpacegroupAnalyzer\n",
    "\n",
    "analyzer = SpacegroupAnalyzer(structure)\n",
    "\n",
    "print(\"Type de maille :\", analyzer.get_lattice_type())\n",
    "print(\"Système cristallin :\", analyzer.get_crystal_system())\n",
    "print(\"Groupe ponctuel :\", analyzer.get_point_group_symbol())\n"
   ]
  }
 ],
 "metadata": {
  "kernelspec": {
   "display_name": "Python 3 (ipykernel)",
   "language": "python",
   "name": "python3"
  },
  "language_info": {
   "codemirror_mode": {
    "name": "ipython",
    "version": 3
   },
   "file_extension": ".py",
   "mimetype": "text/x-python",
   "name": "python",
   "nbconvert_exporter": "python",
   "pygments_lexer": "ipython3",
   "version": "3.9.13"
  }
 },
 "nbformat": 4,
 "nbformat_minor": 5
}
