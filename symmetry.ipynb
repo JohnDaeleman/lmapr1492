{
 "cells": [
  {
   "cell_type": "code",
   "execution_count": 1,
   "id": "ca7e2e27",
   "metadata": {},
   "outputs": [
    {
     "ename": "ModuleNotFoundError",
     "evalue": "No module named 'pymatgen.vis.jsmol'",
     "output_type": "error",
     "traceback": [
      "\u001b[0;31m---------------------------------------------------------------------------\u001b[0m",
      "\u001b[0;31mModuleNotFoundError\u001b[0m                       Traceback (most recent call last)",
      "Cell \u001b[0;32mIn[1], line 4\u001b[0m\n\u001b[1;32m      2\u001b[0m \u001b[38;5;28;01mfrom\u001b[39;00m \u001b[38;5;21;01mpymatgen\u001b[39;00m\u001b[38;5;21;01m.\u001b[39;00m\u001b[38;5;21;01msymmetry\u001b[39;00m\u001b[38;5;21;01m.\u001b[39;00m\u001b[38;5;21;01manalyzer\u001b[39;00m \u001b[38;5;28;01mimport\u001b[39;00m SpacegroupAnalyzer\n\u001b[1;32m      3\u001b[0m \u001b[38;5;28;01mfrom\u001b[39;00m \u001b[38;5;21;01mpymatgen\u001b[39;00m\u001b[38;5;21;01m.\u001b[39;00m\u001b[38;5;21;01mcore\u001b[39;00m\u001b[38;5;21;01m.\u001b[39;00m\u001b[38;5;21;01moperations\u001b[39;00m \u001b[38;5;28;01mimport\u001b[39;00m SymmOp\n\u001b[0;32m----> 4\u001b[0m \u001b[38;5;28;01mfrom\u001b[39;00m \u001b[38;5;21;01mpymatgen\u001b[39;00m\u001b[38;5;21;01m.\u001b[39;00m\u001b[38;5;21;01mvis\u001b[39;00m\u001b[38;5;21;01m.\u001b[39;00m\u001b[38;5;21;01mjsmol\u001b[39;00m \u001b[38;5;28;01mimport\u001b[39;00m JsmolView  \u001b[38;5;66;03m# Pour la visualisation\u001b[39;00m\n\u001b[1;32m      6\u001b[0m \u001b[38;5;66;03m# Clé API et ID du matériau\u001b[39;00m\n\u001b[1;32m      7\u001b[0m mp_key \u001b[38;5;241m=\u001b[39m \u001b[38;5;124m\"\u001b[39m\u001b[38;5;124mV3MXH2I0Y7QlIPA7DnKaEb6MbSeygSrs\u001b[39m\u001b[38;5;124m\"\u001b[39m\n",
      "\u001b[0;31mModuleNotFoundError\u001b[0m: No module named 'pymatgen.vis.jsmol'"
     ]
    }
   ],
   "source": [
    "from mp_api.client import MPRester\n",
    "from pymatgen.symmetry.analyzer import SpacegroupAnalyzer\n",
    "from pymatgen.core.operations import SymmOp\n",
    "from pymatgen.vis.jsmol import JsmolView \n",
    "\n",
    "mp_key = \"V3MXH2I0Y7QlIPA7DnKaEb6MbSeygSrs\"\n",
    "mp_id = \"mp-22990\""
   ]
  },
  {
   "cell_type": "code",
   "execution_count": null,
   "id": "9f2bce27",
   "metadata": {},
   "outputs": [],
   "source": [
    "with MPRester(mp_key) as m:\n",
    "    structure = m.get_structure_by_material_id(mp_id)\n",
    "\n",
    "analyzer = SpacegroupAnalyzer(structure)\n",
    "symmetry_ops = analyzer.get_symmetry_operations()"
   ]
  },
  {
   "cell_type": "code",
   "execution_count": null,
   "id": "8e596da6",
   "metadata": {},
   "outputs": [],
   "source": [
    "indices = [0, 3, 5] \n",
    "atoms = [structure.sites[i] for i in indices]\n",
    "\n",
    "selected_ops = [symmetry_ops[1], symmetry_ops[2], symmetry_ops[3]]\n",
    "\n",
    "transformed_positions = [op.operate(atom.frac_coords) for atom, op in zip(atoms, selected_ops)]\n",
    "\n",
    "transformed_structures = []\n",
    "for i, pos in enumerate(transformed_positions):\n",
    "    new_structure = structure.copy()\n",
    "    new_structure.sites[indices[i]].frac_coords = pos \n",
    "    transformed_structures.append(new_structure)"
   ]
  },
  {
   "cell_type": "code",
   "execution_count": null,
   "id": "3b625c64",
   "metadata": {},
   "outputs": [],
   "source": [
    "jsmol_views = []\n",
    "for i, new_struct in enumerate(transformed_structures):\n",
    "    jsmol_view = JsmolView()\n",
    "    jsmol_view.structure = new_struct\n",
    "    jsmol_views.append(jsmol_view)\n",
    "\n",
    "print(\"Effet des opérations de symétrie sur trois atomes :\")\n",
    "for i, (op, atom, new_pos) in enumerate(zip(selected_ops, atoms, transformed_positions)):\n",
    "    print(f\"\\n Atome {atom.species} ({atom.frac_coords}) transformé par {op.as_xyz_string()}\")\n",
    "    print(f\" Nouvelle position après symétrie : {new_pos}\")\n",
    "\n",
    "for view in jsmol_views:\n",
    "    display(view)"
   ]
  }
 ],
 "metadata": {
  "kernelspec": {
   "display_name": "Python 3 (ipykernel)",
   "language": "python",
   "name": "python3"
  },
  "language_info": {
   "codemirror_mode": {
    "name": "ipython",
    "version": 3
   },
   "file_extension": ".py",
   "mimetype": "text/x-python",
   "name": "python",
   "nbconvert_exporter": "python",
   "pygments_lexer": "ipython3",
   "version": "3.9.13"
  }
 },
 "nbformat": 4,
 "nbformat_minor": 5
}
