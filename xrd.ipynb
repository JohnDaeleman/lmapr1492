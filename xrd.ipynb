{
 "cells": [
  {
   "cell_type": "code",
   "execution_count": 2,
   "id": "a106a0cc",
   "metadata": {},
   "outputs": [],
   "source": [
    "from mp_api.client import MPRester\n",
    "from pymatgen.analysis.diffraction.xrd import XRDCalculator"
   ]
  },
  {
   "cell_type": "code",
   "execution_count": 3,
   "id": "86b272e5",
   "metadata": {},
   "outputs": [],
   "source": [
    "mp_key = \"V3MXH2I0Y7QlIPA7DnKaEb6MbSeygSrs\"\n",
    "mp_id = \"mp-22990\""
   ]
  },
  {
   "cell_type": "code",
   "execution_count": 5,
   "id": "5e516e2c",
   "metadata": {},
   "outputs": [
    {
     "data": {
      "application/vnd.jupyter.widget-view+json": {
       "model_id": "844e9b1d3ef244c6a964ebe35f1f798d",
       "version_major": 2,
       "version_minor": 0
      },
      "text/plain": [
       "Retrieving MaterialsDoc documents:   0%|          | 0/1 [00:00<?, ?it/s]"
      ]
     },
     "metadata": {},
     "output_type": "display_data"
    }
   ],
   "source": [
    "with MPRester(mp_key) as m:\n",
    "    prim_struc = m.get_structure_by_material_id(mp_id)\n",
    "    \n",
    "xrd = XRDCalculator(wavelength = 1.54060)\n",
    "\n",
    "\n",
    "pattern = xrd.get_pattern(prim_struc)"
   ]
  },
  {
   "cell_type": "code",
   "execution_count": 6,
   "id": "a1031384",
   "metadata": {},
   "outputs": [
    {
     "name": "stdout",
     "output_type": "stream",
     "text": [
      "Pic 1: 2θ = 17.58°, Intensité = 0.90, hkl = (1, 0, 0)\n",
      "Pic 2: 2θ = 21.42°, Intensité = 2.24, hkl = (1, 1, 1)\n",
      "Pic 3: 2θ = 21.52°, Intensité = 64.44, hkl = (1, 1, 0)\n"
     ]
    }
   ],
   "source": [
    "for i in range(3):\n",
    "    peak_2theta = pattern.x[i]  \n",
    "    intensity = pattern.y[i]    \n",
    "    hkl = pattern.hkls[i][0][\"hkl\"]  \n",
    "    print(f\"Pic {i+1}: 2θ = {peak_2theta:.2f}°, Intensité = {intensity:.2f}, hkl = {hkl}\")"
   ]
  },
  {
   "cell_type": "code",
   "execution_count": null,
   "id": "99d30329",
   "metadata": {},
   "outputs": [],
   "source": []
  }
 ],
 "metadata": {
  "kernelspec": {
   "display_name": "Python 3 (ipykernel)",
   "language": "python",
   "name": "python3"
  },
  "language_info": {
   "codemirror_mode": {
    "name": "ipython",
    "version": 3
   },
   "file_extension": ".py",
   "mimetype": "text/x-python",
   "name": "python",
   "nbconvert_exporter": "python",
   "pygments_lexer": "ipython3",
   "version": "3.9.13"
  }
 },
 "nbformat": 4,
 "nbformat_minor": 5
}
